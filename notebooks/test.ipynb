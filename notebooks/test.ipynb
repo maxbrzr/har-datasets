{
 "cells": [
  {
   "cell_type": "code",
   "execution_count": 1,
   "id": "dbd8e481",
   "metadata": {},
   "outputs": [
    {
     "name": "stdout",
     "output_type": "stream",
     "text": [
      "1. loading dataframe...\n",
      "2. checking format...\n",
      "3. resample for equidistant sampling...\n",
      "3. applying selections...\n",
      "4. applying resampling...\n",
      "4. applying normalizations...\n",
      "5. generating windows...\n"
     ]
    },
    {
     "name": "stderr",
     "output_type": "stream",
     "text": [
      "100%|██████████| 400/400 [00:01<00:00, 286.38it/s]"
     ]
    },
    {
     "name": "stdout",
     "output_type": "stream",
     "text": [
      "6. applying per sample normalizations...\n",
      "7. splitting into train, test and val...\n",
      "7. done\n"
     ]
    },
    {
     "name": "stderr",
     "output_type": "stream",
     "text": [
      "\n"
     ]
    }
   ],
   "source": [
    "from har_datasets.dataset.har_dataset import HARDataset\n",
    "from har_datasets.parsers.supported import DatasetId, get_har_dataset_cfg_and_parser\n",
    "\n",
    "cfg, parse = get_har_dataset_cfg_and_parser(DatasetId.UCI_HAR)\n",
    "dataset = HARDataset(cfg, parse, override_csv=True)\n",
    "\n",
    "train_loader, test_loader, val_loader = dataset.get_dataloaders()"
   ]
  },
  {
   "cell_type": "code",
   "execution_count": 33,
   "id": "38841bf5",
   "metadata": {},
   "outputs": [
    {
     "data": {
      "text/html": [
       "<div>\n",
       "<style scoped>\n",
       "    .dataframe tbody tr th:only-of-type {\n",
       "        vertical-align: middle;\n",
       "    }\n",
       "\n",
       "    .dataframe tbody tr th {\n",
       "        vertical-align: top;\n",
       "    }\n",
       "\n",
       "    .dataframe thead th {\n",
       "        text-align: right;\n",
       "    }\n",
       "</style>\n",
       "<table border=\"1\" class=\"dataframe\">\n",
       "  <thead>\n",
       "    <tr style=\"text-align: right;\">\n",
       "      <th></th>\n",
       "      <th>total_acc_x</th>\n",
       "      <th>total_acc_y</th>\n",
       "      <th>total_acc_z</th>\n",
       "      <th>body_acc_x</th>\n",
       "      <th>body_acc_y</th>\n",
       "      <th>body_acc_z</th>\n",
       "      <th>body_gyro_x</th>\n",
       "      <th>body_gyro_y</th>\n",
       "      <th>body_gyro_z</th>\n",
       "    </tr>\n",
       "  </thead>\n",
       "  <tbody>\n",
       "    <tr>\n",
       "      <th>0</th>\n",
       "      <td>1.012817</td>\n",
       "      <td>-0.123217</td>\n",
       "      <td>0.102934</td>\n",
       "      <td>0.000181</td>\n",
       "      <td>0.010767</td>\n",
       "      <td>0.055561</td>\n",
       "      <td>0.030191</td>\n",
       "      <td>0.066014</td>\n",
       "      <td>0.022859</td>\n",
       "    </tr>\n",
       "    <tr>\n",
       "      <th>1</th>\n",
       "      <td>1.022833</td>\n",
       "      <td>-0.126876</td>\n",
       "      <td>0.105687</td>\n",
       "      <td>0.010139</td>\n",
       "      <td>0.006579</td>\n",
       "      <td>0.055125</td>\n",
       "      <td>0.043711</td>\n",
       "      <td>0.042699</td>\n",
       "      <td>0.010316</td>\n",
       "    </tr>\n",
       "    <tr>\n",
       "      <th>2</th>\n",
       "      <td>1.022028</td>\n",
       "      <td>-0.124004</td>\n",
       "      <td>0.102103</td>\n",
       "      <td>0.009276</td>\n",
       "      <td>0.008929</td>\n",
       "      <td>0.048405</td>\n",
       "      <td>0.035688</td>\n",
       "      <td>0.074850</td>\n",
       "      <td>0.013250</td>\n",
       "    </tr>\n",
       "    <tr>\n",
       "      <th>3</th>\n",
       "      <td>1.017877</td>\n",
       "      <td>-0.124928</td>\n",
       "      <td>0.106553</td>\n",
       "      <td>0.005066</td>\n",
       "      <td>0.007489</td>\n",
       "      <td>0.049775</td>\n",
       "      <td>0.040402</td>\n",
       "      <td>0.057320</td>\n",
       "      <td>0.017751</td>\n",
       "    </tr>\n",
       "    <tr>\n",
       "      <th>4</th>\n",
       "      <td>1.023680</td>\n",
       "      <td>-0.125767</td>\n",
       "      <td>0.102813</td>\n",
       "      <td>0.010810</td>\n",
       "      <td>0.006141</td>\n",
       "      <td>0.043013</td>\n",
       "      <td>0.047097</td>\n",
       "      <td>0.052343</td>\n",
       "      <td>0.002553</td>\n",
       "    </tr>\n",
       "    <tr>\n",
       "      <th>...</th>\n",
       "      <td>...</td>\n",
       "      <td>...</td>\n",
       "      <td>...</td>\n",
       "      <td>...</td>\n",
       "      <td>...</td>\n",
       "      <td>...</td>\n",
       "      <td>...</td>\n",
       "      <td>...</td>\n",
       "      <td>...</td>\n",
       "    </tr>\n",
       "    <tr>\n",
       "      <th>123</th>\n",
       "      <td>1.019815</td>\n",
       "      <td>-0.127010</td>\n",
       "      <td>0.094843</td>\n",
       "      <td>0.000228</td>\n",
       "      <td>-0.002929</td>\n",
       "      <td>-0.003412</td>\n",
       "      <td>0.025197</td>\n",
       "      <td>-0.005166</td>\n",
       "      <td>0.007355</td>\n",
       "    </tr>\n",
       "    <tr>\n",
       "      <th>124</th>\n",
       "      <td>1.019290</td>\n",
       "      <td>-0.126185</td>\n",
       "      <td>0.098350</td>\n",
       "      <td>-0.000300</td>\n",
       "      <td>-0.002023</td>\n",
       "      <td>0.000359</td>\n",
       "      <td>0.032328</td>\n",
       "      <td>-0.001298</td>\n",
       "      <td>0.002669</td>\n",
       "    </tr>\n",
       "    <tr>\n",
       "      <th>125</th>\n",
       "      <td>1.018445</td>\n",
       "      <td>-0.124070</td>\n",
       "      <td>0.100385</td>\n",
       "      <td>-0.001147</td>\n",
       "      <td>0.000171</td>\n",
       "      <td>0.002648</td>\n",
       "      <td>0.039852</td>\n",
       "      <td>0.001909</td>\n",
       "      <td>-0.002170</td>\n",
       "    </tr>\n",
       "    <tr>\n",
       "      <th>126</th>\n",
       "      <td>1.019372</td>\n",
       "      <td>-0.122745</td>\n",
       "      <td>0.099874</td>\n",
       "      <td>-0.000222</td>\n",
       "      <td>0.001574</td>\n",
       "      <td>0.002381</td>\n",
       "      <td>0.037449</td>\n",
       "      <td>-0.000080</td>\n",
       "      <td>-0.005643</td>\n",
       "    </tr>\n",
       "    <tr>\n",
       "      <th>127</th>\n",
       "      <td>1.021171</td>\n",
       "      <td>-0.121326</td>\n",
       "      <td>0.094987</td>\n",
       "      <td>0.001576</td>\n",
       "      <td>0.003070</td>\n",
       "      <td>-0.002270</td>\n",
       "      <td>0.028818</td>\n",
       "      <td>-0.000038</td>\n",
       "      <td>-0.001446</td>\n",
       "    </tr>\n",
       "  </tbody>\n",
       "</table>\n",
       "<p>128 rows × 9 columns</p>\n",
       "</div>"
      ],
      "text/plain": [
       "     total_acc_x  total_acc_y  total_acc_z  body_acc_x  body_acc_y  \\\n",
       "0       1.012817    -0.123217     0.102934    0.000181    0.010767   \n",
       "1       1.022833    -0.126876     0.105687    0.010139    0.006579   \n",
       "2       1.022028    -0.124004     0.102103    0.009276    0.008929   \n",
       "3       1.017877    -0.124928     0.106553    0.005066    0.007489   \n",
       "4       1.023680    -0.125767     0.102813    0.010810    0.006141   \n",
       "..           ...          ...          ...         ...         ...   \n",
       "123     1.019815    -0.127010     0.094843    0.000228   -0.002929   \n",
       "124     1.019290    -0.126185     0.098350   -0.000300   -0.002023   \n",
       "125     1.018445    -0.124070     0.100385   -0.001147    0.000171   \n",
       "126     1.019372    -0.122745     0.099874   -0.000222    0.001574   \n",
       "127     1.021171    -0.121326     0.094987    0.001576    0.003070   \n",
       "\n",
       "     body_acc_z  body_gyro_x  body_gyro_y  body_gyro_z  \n",
       "0      0.055561     0.030191     0.066014     0.022859  \n",
       "1      0.055125     0.043711     0.042699     0.010316  \n",
       "2      0.048405     0.035688     0.074850     0.013250  \n",
       "3      0.049775     0.040402     0.057320     0.017751  \n",
       "4      0.043013     0.047097     0.052343     0.002553  \n",
       "..          ...          ...          ...          ...  \n",
       "123   -0.003412     0.025197    -0.005166     0.007355  \n",
       "124    0.000359     0.032328    -0.001298     0.002669  \n",
       "125    0.002648     0.039852     0.001909    -0.002170  \n",
       "126    0.002381     0.037449    -0.000080    -0.005643  \n",
       "127   -0.002270     0.028818    -0.000038    -0.001446  \n",
       "\n",
       "[128 rows x 9 columns]"
      ]
     },
     "execution_count": 33,
     "metadata": {},
     "output_type": "execute_result"
    }
   ],
   "source": [
    "dataset.window_index\n",
    "dataset.windows[0]"
   ]
  },
  {
   "cell_type": "code",
   "execution_count": 35,
   "id": "896146f7",
   "metadata": {},
   "outputs": [
    {
     "name": "stdout",
     "output_type": "stream",
     "text": [
      "torch.Size([32, 128, 9])\n"
     ]
    },
    {
     "data": {
      "image/png": "[encoded data removed]",
      "text/plain": [
       "<Figure size 640x480 with 1 Axes>"
      ]
     },
     "metadata": {},
     "output_type": "display_data"
    }
   ],
   "source": [
    "from matplotlib import pyplot as plt\n",
    "\n",
    "x, y = next(iter(train_loader))\n",
    "print(x.shape)\n",
    "\n",
    "plt.plot(x[0, :, 0])\n",
    "plt.show()"
   ]
  }
 ],
 "metadata": {
  "kernelspec": {
   "display_name": ".venv",
   "language": "python",
   "name": "python3"
  },
  "language_info": {
   "codemirror_mode": {
    "name": "ipython",
    "version": 3
   },
   "file_extension": ".py",
   "mimetype": "text/x-python",
   "name": "python",
   "nbconvert_exporter": "python",
   "pygments_lexer": "ipython3",
   "version": "3.13.2"
  }
 },
 "nbformat": 4,
 "nbformat_minor": 5
}
