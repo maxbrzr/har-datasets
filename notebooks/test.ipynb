{
 "cells": [
  {
   "cell_type": "code",
   "execution_count": 1,
   "id": "dbd8e481",
   "metadata": {},
   "outputs": [],
   "source": [
    "from har_datasets.dataset.har_dataset import HARDataset\n",
    "from har_datasets.supported.getter import DatasetId, get_har_dataset_cfg_and_parser"
   ]
  },
  {
   "cell_type": "code",
   "execution_count": 3,
   "id": "7a752dd7",
   "metadata": {},
   "outputs": [
    {
     "name": "stdout",
     "output_type": "stream",
     "text": [
      "Creating config hash...\n",
      "Loading config hash...\n"
     ]
    },
    {
     "name": "stderr",
     "output_type": "stream",
     "text": [
      "Loading windows: 100%|██████████| 22075/22075 [00:08<00:00, 2521.53it/s]\n"
     ]
    }
   ],
   "source": [
    "cfg, parse = get_har_dataset_cfg_and_parser(DatasetId.KU_HAR)\n",
    "dataset = HARDataset(cfg, parse, override_cache=False)"
   ]
  },
  {
   "cell_type": "code",
   "execution_count": 4,
   "id": "6d09ffbb",
   "metadata": {},
   "outputs": [
    {
     "name": "stdout",
     "output_type": "stream",
     "text": [
      "subject_id\n",
      "3     1094\n",
      "21     659\n",
      "22     639\n",
      "0      619\n",
      "9      571\n",
      "      ... \n",
      "81      30\n",
      "84      28\n",
      "80      24\n",
      "83      24\n",
      "88      21\n",
      "Name: count, Length: 89, dtype: int64\n",
      "activity_id\n",
      "8     2368\n",
      "11    2185\n",
      "1     2180\n",
      "16    2163\n",
      "13    2085\n",
      "10    2063\n",
      "3     1966\n",
      "6     1488\n",
      "5      897\n",
      "17     863\n",
      "2      722\n",
      "15     578\n",
      "0      577\n",
      "7      528\n",
      "12     424\n",
      "9      382\n",
      "14     321\n",
      "4      285\n",
      "Name: count, dtype: int64\n",
      "train: 17768 | val: 3312 | test: 995\n"
     ]
    }
   ],
   "source": [
    "train_loader, val_loader, test_loader = dataset.get_dataloaders()"
   ]
  },
  {
   "cell_type": "code",
   "execution_count": 5,
   "id": "21588eb5",
   "metadata": {},
   "outputs": [
    {
     "data": {
      "text/plain": [
       "17"
      ]
     },
     "execution_count": 5,
     "metadata": {},
     "output_type": "execute_result"
    }
   ],
   "source": [
    "weights = dataset.get_class_weights(train_loader)\n",
    "len(weights)"
   ]
  },
  {
   "cell_type": "code",
   "execution_count": 6,
   "id": "38841bf5",
   "metadata": {},
   "outputs": [
    {
     "data": {
      "text/html": [
       "<div>\n",
       "<style scoped>\n",
       "    .dataframe tbody tr th:only-of-type {\n",
       "        vertical-align: middle;\n",
       "    }\n",
       "\n",
       "    .dataframe tbody tr th {\n",
       "        vertical-align: top;\n",
       "    }\n",
       "\n",
       "    .dataframe thead th {\n",
       "        text-align: right;\n",
       "    }\n",
       "</style>\n",
       "<table border=\"1\" class=\"dataframe\">\n",
       "  <thead>\n",
       "    <tr style=\"text-align: right;\">\n",
       "      <th></th>\n",
       "      <th>acc_x</th>\n",
       "      <th>acc_y</th>\n",
       "      <th>acc_z</th>\n",
       "      <th>gyro_x</th>\n",
       "      <th>gyro_y</th>\n",
       "      <th>gyro_z</th>\n",
       "    </tr>\n",
       "  </thead>\n",
       "  <tbody>\n",
       "    <tr>\n",
       "      <th>0</th>\n",
       "      <td>-0.358800</td>\n",
       "      <td>-0.137865</td>\n",
       "      <td>-0.32861</td>\n",
       "      <td>-0.863635</td>\n",
       "      <td>-0.115241</td>\n",
       "      <td>0.17927</td>\n",
       "    </tr>\n",
       "    <tr>\n",
       "      <th>1</th>\n",
       "      <td>-0.623150</td>\n",
       "      <td>-0.236220</td>\n",
       "      <td>-0.77054</td>\n",
       "      <td>-1.058200</td>\n",
       "      <td>-0.013225</td>\n",
       "      <td>0.30908</td>\n",
       "    </tr>\n",
       "    <tr>\n",
       "      <th>2</th>\n",
       "      <td>-0.473470</td>\n",
       "      <td>-0.163570</td>\n",
       "      <td>-0.93172</td>\n",
       "      <td>-1.136400</td>\n",
       "      <td>0.000214</td>\n",
       "      <td>0.37444</td>\n",
       "    </tr>\n",
       "    <tr>\n",
       "      <th>3</th>\n",
       "      <td>0.007947</td>\n",
       "      <td>0.193760</td>\n",
       "      <td>-1.02090</td>\n",
       "      <td>-1.195000</td>\n",
       "      <td>0.005712</td>\n",
       "      <td>0.37994</td>\n",
       "    </tr>\n",
       "    <tr>\n",
       "      <th>4</th>\n",
       "      <td>0.415370</td>\n",
       "      <td>0.659870</td>\n",
       "      <td>-1.00690</td>\n",
       "      <td>-1.248800</td>\n",
       "      <td>-0.005284</td>\n",
       "      <td>0.33596</td>\n",
       "    </tr>\n",
       "    <tr>\n",
       "      <th>...</th>\n",
       "      <td>...</td>\n",
       "      <td>...</td>\n",
       "      <td>...</td>\n",
       "      <td>...</td>\n",
       "      <td>...</td>\n",
       "      <td>...</td>\n",
       "    </tr>\n",
       "    <tr>\n",
       "      <th>251</th>\n",
       "      <td>1.351900</td>\n",
       "      <td>0.379080</td>\n",
       "      <td>0.10450</td>\n",
       "      <td>0.517840</td>\n",
       "      <td>-0.273450</td>\n",
       "      <td>-0.36532</td>\n",
       "    </tr>\n",
       "    <tr>\n",
       "      <th>252</th>\n",
       "      <td>1.073100</td>\n",
       "      <td>0.981340</td>\n",
       "      <td>0.64372</td>\n",
       "      <td>0.534610</td>\n",
       "      <td>-0.195720</td>\n",
       "      <td>-0.49655</td>\n",
       "    </tr>\n",
       "    <tr>\n",
       "      <th>253</th>\n",
       "      <td>-0.231320</td>\n",
       "      <td>1.422600</td>\n",
       "      <td>0.33030</td>\n",
       "      <td>0.487290</td>\n",
       "      <td>-0.040714</td>\n",
       "      <td>-0.66953</td>\n",
       "    </tr>\n",
       "    <tr>\n",
       "      <th>254</th>\n",
       "      <td>-0.845700</td>\n",
       "      <td>1.573900</td>\n",
       "      <td>-0.33034</td>\n",
       "      <td>0.453080</td>\n",
       "      <td>-0.005284</td>\n",
       "      <td>-0.77398</td>\n",
       "    </tr>\n",
       "    <tr>\n",
       "      <th>255</th>\n",
       "      <td>-1.363100</td>\n",
       "      <td>1.627100</td>\n",
       "      <td>-0.92427</td>\n",
       "      <td>0.409710</td>\n",
       "      <td>-0.008338</td>\n",
       "      <td>-0.86500</td>\n",
       "    </tr>\n",
       "  </tbody>\n",
       "</table>\n",
       "<p>256 rows × 6 columns</p>\n",
       "</div>"
      ],
      "text/plain": [
       "        acc_x     acc_y    acc_z    gyro_x    gyro_y   gyro_z\n",
       "0   -0.358800 -0.137865 -0.32861 -0.863635 -0.115241  0.17927\n",
       "1   -0.623150 -0.236220 -0.77054 -1.058200 -0.013225  0.30908\n",
       "2   -0.473470 -0.163570 -0.93172 -1.136400  0.000214  0.37444\n",
       "3    0.007947  0.193760 -1.02090 -1.195000  0.005712  0.37994\n",
       "4    0.415370  0.659870 -1.00690 -1.248800 -0.005284  0.33596\n",
       "..        ...       ...      ...       ...       ...      ...\n",
       "251  1.351900  0.379080  0.10450  0.517840 -0.273450 -0.36532\n",
       "252  1.073100  0.981340  0.64372  0.534610 -0.195720 -0.49655\n",
       "253 -0.231320  1.422600  0.33030  0.487290 -0.040714 -0.66953\n",
       "254 -0.845700  1.573900 -0.33034  0.453080 -0.005284 -0.77398\n",
       "255 -1.363100  1.627100 -0.92427  0.409710 -0.008338 -0.86500\n",
       "\n",
       "[256 rows x 6 columns]"
      ]
     },
     "execution_count": 6,
     "metadata": {},
     "output_type": "execute_result"
    }
   ],
   "source": [
    "dataset.window_index\n",
    "assert dataset.windows is not None\n",
    "dataset.windows[0]"
   ]
  },
  {
   "cell_type": "code",
   "execution_count": 24,
   "id": "896146f7",
   "metadata": {},
   "outputs": [
    {
     "name": "stdout",
     "output_type": "stream",
     "text": [
      "torch.Size([32, 256, 6])\n"
     ]
    },
    {
     "data": {
      "image/png": "[encoded data removed]",
      "text/plain": [
       "<Figure size 640x480 with 1 Axes>"
      ]
     },
     "metadata": {},
     "output_type": "display_data"
    }
   ],
   "source": [
    "from matplotlib import pyplot as plt\n",
    "\n",
    "y, x1, x2 = next(iter(train_loader))\n",
    "print(x1.shape)\n",
    "\n",
    "plt.plot(x1[0, :, 0])\n",
    "plt.show()"
   ]
  }
 ],
 "metadata": {
  "kernelspec": {
   "display_name": ".venv",
   "language": "python",
   "name": "python3"
  },
  "language_info": {
   "codemirror_mode": {
    "name": "ipython",
    "version": 3
   },
   "file_extension": ".py",
   "mimetype": "text/x-python",
   "name": "python",
   "nbconvert_exporter": "python",
   "pygments_lexer": "ipython3",
   "version": "3.13.2"
  }
 },
 "nbformat": 4,
 "nbformat_minor": 5
}
