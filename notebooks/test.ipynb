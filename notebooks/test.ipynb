{
 "cells": [
  {
   "cell_type": "code",
   "execution_count": 2,
   "id": "dbd8e481",
   "metadata": {},
   "outputs": [],
   "source": [
    "from har_datasets.dataset.har_dataset import HARDataset\n",
    "from har_datasets.supported.getter import DatasetId, get_har_dataset_cfg_and_parser"
   ]
  },
  {
   "cell_type": "code",
   "execution_count": 3,
   "id": "7a752dd7",
   "metadata": {},
   "outputs": [
    {
     "name": "stdout",
     "output_type": "stream",
     "text": [
      "Creating config hash...\n",
      "Loading config hash...\n",
      "Loading data...\n",
      "Checking data format...\n",
      "Resampling data...\n",
      "Selecting activities...\n",
      "Selecting channels...\n",
      "Generating windows...\n"
     ]
    },
    {
     "name": "stderr",
     "output_type": "stream",
     "text": [
      "Generating windows: 100%|██████████| 237/237 [00:00<00:00, 456.03it/s]\n",
      "Saving windows: 100%|██████████| 1614/1614 [00:00<00:00, 2507.06it/s]\n"
     ]
    }
   ],
   "source": [
    "cfg, parse = get_har_dataset_cfg_and_parser(DatasetId.DAPHNET)\n",
    "dataset = HARDataset(cfg, parse, override_cache=True)"
   ]
  },
  {
   "cell_type": "code",
   "execution_count": 5,
   "id": "6d09ffbb",
   "metadata": {},
   "outputs": [
    {
     "name": "stdout",
     "output_type": "stream",
     "text": [
      "subject_id\n",
      "9    440\n",
      "6    263\n",
      "8    254\n",
      "3    196\n",
      "1    171\n",
      "2    126\n",
      "5     93\n",
      "7     71\n",
      "Name: count, dtype: int64\n",
      "activity_id\n",
      "2    1614\n",
      "Name: count, dtype: int64\n",
      "train: 849 | val: 325 | test: 440\n"
     ]
    }
   ],
   "source": [
    "train_loader, val_loader, test_loader = dataset.get_dataloaders()"
   ]
  },
  {
   "cell_type": "code",
   "execution_count": 43,
   "id": "21588eb5",
   "metadata": {},
   "outputs": [
    {
     "data": {
      "text/plain": [
       "1"
      ]
     },
     "execution_count": 43,
     "metadata": {},
     "output_type": "execute_result"
    }
   ],
   "source": [
    "weights = dataset.get_class_weights(test_loader)\n",
    "len(weights)"
   ]
  },
  {
   "cell_type": "code",
   "execution_count": 6,
   "id": "38841bf5",
   "metadata": {},
   "outputs": [
    {
     "data": {
      "text/html": [
       "<div>\n",
       "<style scoped>\n",
       "    .dataframe tbody tr th:only-of-type {\n",
       "        vertical-align: middle;\n",
       "    }\n",
       "\n",
       "    .dataframe tbody tr th {\n",
       "        vertical-align: top;\n",
       "    }\n",
       "\n",
       "    .dataframe thead th {\n",
       "        text-align: right;\n",
       "    }\n",
       "</style>\n",
       "<table border=\"1\" class=\"dataframe\">\n",
       "  <thead>\n",
       "    <tr style=\"text-align: right;\">\n",
       "      <th></th>\n",
       "      <th>shank_acc_x</th>\n",
       "      <th>shank_acc_y</th>\n",
       "      <th>shank_acc_z</th>\n",
       "      <th>thigh_acc_x</th>\n",
       "      <th>thigh_acc_y</th>\n",
       "      <th>thigh_acc_z</th>\n",
       "      <th>trunk_acc_x</th>\n",
       "      <th>trunk_acc_y</th>\n",
       "      <th>trunk_acc_z</th>\n",
       "    </tr>\n",
       "  </thead>\n",
       "  <tbody>\n",
       "    <tr>\n",
       "      <th>247791</th>\n",
       "      <td>-383.0</td>\n",
       "      <td>892.00</td>\n",
       "      <td>297.00</td>\n",
       "      <td>-245.0</td>\n",
       "      <td>907.0</td>\n",
       "      <td>131.0</td>\n",
       "      <td>126.0</td>\n",
       "      <td>885.00</td>\n",
       "      <td>0.0</td>\n",
       "    </tr>\n",
       "    <tr>\n",
       "      <th>247792</th>\n",
       "      <td>-535.0</td>\n",
       "      <td>754.00</td>\n",
       "      <td>148.00</td>\n",
       "      <td>-454.0</td>\n",
       "      <td>833.0</td>\n",
       "      <td>202.0</td>\n",
       "      <td>19.0</td>\n",
       "      <td>933.00</td>\n",
       "      <td>-126.0</td>\n",
       "    </tr>\n",
       "    <tr>\n",
       "      <th>247793</th>\n",
       "      <td>-555.0</td>\n",
       "      <td>735.00</td>\n",
       "      <td>79.00</td>\n",
       "      <td>-490.0</td>\n",
       "      <td>861.0</td>\n",
       "      <td>292.0</td>\n",
       "      <td>29.0</td>\n",
       "      <td>838.00</td>\n",
       "      <td>19.0</td>\n",
       "    </tr>\n",
       "    <tr>\n",
       "      <th>247794</th>\n",
       "      <td>-444.0</td>\n",
       "      <td>882.00</td>\n",
       "      <td>9.00</td>\n",
       "      <td>-209.0</td>\n",
       "      <td>1055.0</td>\n",
       "      <td>252.0</td>\n",
       "      <td>0.0</td>\n",
       "      <td>1019.00</td>\n",
       "      <td>-174.0</td>\n",
       "    </tr>\n",
       "    <tr>\n",
       "      <th>247795</th>\n",
       "      <td>-282.0</td>\n",
       "      <td>1088.00</td>\n",
       "      <td>59.00</td>\n",
       "      <td>127.0</td>\n",
       "      <td>1111.0</td>\n",
       "      <td>30.0</td>\n",
       "      <td>-58.0</td>\n",
       "      <td>1085.00</td>\n",
       "      <td>-97.0</td>\n",
       "    </tr>\n",
       "    <tr>\n",
       "      <th>...</th>\n",
       "      <td>...</td>\n",
       "      <td>...</td>\n",
       "      <td>...</td>\n",
       "      <td>...</td>\n",
       "      <td>...</td>\n",
       "      <td>...</td>\n",
       "      <td>...</td>\n",
       "      <td>...</td>\n",
       "      <td>...</td>\n",
       "    </tr>\n",
       "    <tr>\n",
       "      <th>247850</th>\n",
       "      <td>-505.0</td>\n",
       "      <td>1078.00</td>\n",
       "      <td>544.00</td>\n",
       "      <td>-390.0</td>\n",
       "      <td>1250.0</td>\n",
       "      <td>-70.0</td>\n",
       "      <td>-29.0</td>\n",
       "      <td>619.00</td>\n",
       "      <td>184.0</td>\n",
       "    </tr>\n",
       "    <tr>\n",
       "      <th>247851</th>\n",
       "      <td>-131.0</td>\n",
       "      <td>1117.00</td>\n",
       "      <td>316.00</td>\n",
       "      <td>627.0</td>\n",
       "      <td>648.0</td>\n",
       "      <td>232.0</td>\n",
       "      <td>-97.0</td>\n",
       "      <td>657.00</td>\n",
       "      <td>135.0</td>\n",
       "    </tr>\n",
       "    <tr>\n",
       "      <th>247852</th>\n",
       "      <td>-20.0</td>\n",
       "      <td>1264.00</td>\n",
       "      <td>257.00</td>\n",
       "      <td>727.0</td>\n",
       "      <td>981.0</td>\n",
       "      <td>282.0</td>\n",
       "      <td>-339.0</td>\n",
       "      <td>809.00</td>\n",
       "      <td>155.0</td>\n",
       "    </tr>\n",
       "    <tr>\n",
       "      <th>247853</th>\n",
       "      <td>90.0</td>\n",
       "      <td>1500.00</td>\n",
       "      <td>574.00</td>\n",
       "      <td>918.0</td>\n",
       "      <td>1314.0</td>\n",
       "      <td>111.0</td>\n",
       "      <td>-300.0</td>\n",
       "      <td>1019.00</td>\n",
       "      <td>97.0</td>\n",
       "    </tr>\n",
       "    <tr>\n",
       "      <th>247854</th>\n",
       "      <td>123.0</td>\n",
       "      <td>1472.75</td>\n",
       "      <td>450.25</td>\n",
       "      <td>654.5</td>\n",
       "      <td>1203.0</td>\n",
       "      <td>113.5</td>\n",
       "      <td>-290.5</td>\n",
       "      <td>1052.25</td>\n",
       "      <td>34.0</td>\n",
       "    </tr>\n",
       "  </tbody>\n",
       "</table>\n",
       "<p>64 rows × 9 columns</p>\n",
       "</div>"
      ],
      "text/plain": [
       "        shank_acc_x  shank_acc_y  shank_acc_z  thigh_acc_x  thigh_acc_y  \\\n",
       "247791       -383.0       892.00       297.00       -245.0        907.0   \n",
       "247792       -535.0       754.00       148.00       -454.0        833.0   \n",
       "247793       -555.0       735.00        79.00       -490.0        861.0   \n",
       "247794       -444.0       882.00         9.00       -209.0       1055.0   \n",
       "247795       -282.0      1088.00        59.00        127.0       1111.0   \n",
       "...             ...          ...          ...          ...          ...   \n",
       "247850       -505.0      1078.00       544.00       -390.0       1250.0   \n",
       "247851       -131.0      1117.00       316.00        627.0        648.0   \n",
       "247852        -20.0      1264.00       257.00        727.0        981.0   \n",
       "247853         90.0      1500.00       574.00        918.0       1314.0   \n",
       "247854        123.0      1472.75       450.25        654.5       1203.0   \n",
       "\n",
       "        thigh_acc_z  trunk_acc_x  trunk_acc_y  trunk_acc_z  \n",
       "247791        131.0        126.0       885.00          0.0  \n",
       "247792        202.0         19.0       933.00       -126.0  \n",
       "247793        292.0         29.0       838.00         19.0  \n",
       "247794        252.0          0.0      1019.00       -174.0  \n",
       "247795         30.0        -58.0      1085.00        -97.0  \n",
       "...             ...          ...          ...          ...  \n",
       "247850        -70.0        -29.0       619.00        184.0  \n",
       "247851        232.0        -97.0       657.00        135.0  \n",
       "247852        282.0       -339.0       809.00        155.0  \n",
       "247853        111.0       -300.0      1019.00         97.0  \n",
       "247854        113.5       -290.5      1052.25         34.0  \n",
       "\n",
       "[64 rows x 9 columns]"
      ]
     },
     "execution_count": 6,
     "metadata": {},
     "output_type": "execute_result"
    }
   ],
   "source": [
    "dataset.window_index\n",
    "assert dataset.windows is not None\n",
    "dataset.windows[0]"
   ]
  },
  {
   "cell_type": "code",
   "execution_count": 20,
   "id": "896146f7",
   "metadata": {},
   "outputs": [
    {
     "name": "stdout",
     "output_type": "stream",
     "text": [
      "torch.Size([32, 64, 9])\n"
     ]
    },
    {
     "data": {
      "image/png": "[encoded data removed]",
      "text/plain": [
       "<Figure size 640x480 with 1 Axes>"
      ]
     },
     "metadata": {},
     "output_type": "display_data"
    }
   ],
   "source": [
    "from matplotlib import pyplot as plt\n",
    "\n",
    "y, x1, x2 = next(iter(train_loader))\n",
    "print(x1.shape)\n",
    "\n",
    "plt.plot(x1[0, :, 0])\n",
    "plt.show()"
   ]
  }
 ],
 "metadata": {
  "kernelspec": {
   "display_name": ".venv",
   "language": "python",
   "name": "python3"
  },
  "language_info": {
   "codemirror_mode": {
    "name": "ipython",
    "version": 3
   },
   "file_extension": ".py",
   "mimetype": "text/x-python",
   "name": "python",
   "nbconvert_exporter": "python",
   "pygments_lexer": "ipython3",
   "version": "3.13.2"
  }
 },
 "nbformat": 4,
 "nbformat_minor": 5
}
