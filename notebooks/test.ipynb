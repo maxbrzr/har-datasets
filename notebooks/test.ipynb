{
 "cells": [
  {
   "cell_type": "code",
   "execution_count": 2,
   "id": "dbd8e481",
   "metadata": {},
   "outputs": [
    {
     "name": "stdout",
     "output_type": "stream",
     "text": [
      "1. loading dataframe...\n",
      "2. checking format...\n",
      "3. resample for equidistant sampling...\n",
      "3. applying selections...\n",
      "4. applying resampling...\n",
      "4. applying normalizations...\n",
      "5. get windows...\n"
     ]
    },
    {
     "name": "stderr",
     "output_type": "stream",
     "text": [
      "Loading windows: 100%|██████████| 4841/4841 [00:02<00:00, 2212.25it/s]"
     ]
    },
    {
     "name": "stdout",
     "output_type": "stream",
     "text": [
      "6. applying per sample normalizations...\n",
      "7. splitting into train, test and val...\n",
      "7. done\n"
     ]
    },
    {
     "name": "stderr",
     "output_type": "stream",
     "text": [
      "\n"
     ]
    }
   ],
   "source": [
    "from har_datasets.dataset.har_dataset import HARDataset\n",
    "from har_datasets.supported.getter import DatasetId, get_har_dataset_cfg_and_parser\n",
    "\n",
    "cfg, parse = get_har_dataset_cfg_and_parser(DatasetId.UCI_HAR)\n",
    "dataset = HARDataset(cfg, parse, override_csv=False)\n",
    "\n",
    "train_loader, test_loader, val_loader = dataset.get_dataloaders()"
   ]
  },
  {
   "cell_type": "code",
   "execution_count": 3,
   "id": "38841bf5",
   "metadata": {},
   "outputs": [
    {
     "data": {
      "text/html": [
       "<div>\n",
       "<style scoped>\n",
       "    .dataframe tbody tr th:only-of-type {\n",
       "        vertical-align: middle;\n",
       "    }\n",
       "\n",
       "    .dataframe tbody tr th {\n",
       "        vertical-align: top;\n",
       "    }\n",
       "\n",
       "    .dataframe thead th {\n",
       "        text-align: right;\n",
       "    }\n",
       "</style>\n",
       "<table border=\"1\" class=\"dataframe\">\n",
       "  <thead>\n",
       "    <tr style=\"text-align: right;\">\n",
       "      <th></th>\n",
       "      <th>total_acc_x</th>\n",
       "      <th>total_acc_y</th>\n",
       "      <th>total_acc_z</th>\n",
       "      <th>body_acc_x</th>\n",
       "      <th>body_acc_y</th>\n",
       "      <th>body_acc_z</th>\n",
       "      <th>body_gyro_x</th>\n",
       "      <th>body_gyro_y</th>\n",
       "      <th>body_gyro_z</th>\n",
       "    </tr>\n",
       "  </thead>\n",
       "  <tbody>\n",
       "    <tr>\n",
       "      <th>0</th>\n",
       "      <td>1.023127</td>\n",
       "      <td>-0.120016</td>\n",
       "      <td>0.091117</td>\n",
       "      <td>0.003531</td>\n",
       "      <td>0.004456</td>\n",
       "      <td>-0.005915</td>\n",
       "      <td>0.026189</td>\n",
       "      <td>-0.000238</td>\n",
       "      <td>0.002159</td>\n",
       "    </tr>\n",
       "    <tr>\n",
       "      <th>1</th>\n",
       "      <td>1.021882</td>\n",
       "      <td>-0.121499</td>\n",
       "      <td>0.092676</td>\n",
       "      <td>0.002285</td>\n",
       "      <td>0.003046</td>\n",
       "      <td>-0.004139</td>\n",
       "      <td>0.021651</td>\n",
       "      <td>-0.000428</td>\n",
       "      <td>-0.000272</td>\n",
       "    </tr>\n",
       "    <tr>\n",
       "      <th>2</th>\n",
       "      <td>1.019178</td>\n",
       "      <td>-0.122841</td>\n",
       "      <td>0.096064</td>\n",
       "      <td>-0.000420</td>\n",
       "      <td>0.001776</td>\n",
       "      <td>-0.000543</td>\n",
       "      <td>0.014551</td>\n",
       "      <td>0.000761</td>\n",
       "      <td>0.002631</td>\n",
       "    </tr>\n",
       "    <tr>\n",
       "      <th>3</th>\n",
       "      <td>1.015861</td>\n",
       "      <td>-0.123717</td>\n",
       "      <td>0.099897</td>\n",
       "      <td>-0.003738</td>\n",
       "      <td>0.000969</td>\n",
       "      <td>0.003490</td>\n",
       "      <td>0.014815</td>\n",
       "      <td>-0.003026</td>\n",
       "      <td>0.003376</td>\n",
       "    </tr>\n",
       "    <tr>\n",
       "      <th>4</th>\n",
       "      <td>1.012893</td>\n",
       "      <td>-0.123817</td>\n",
       "      <td>0.097627</td>\n",
       "      <td>-0.006706</td>\n",
       "      <td>0.000937</td>\n",
       "      <td>0.001409</td>\n",
       "      <td>0.016694</td>\n",
       "      <td>-0.005988</td>\n",
       "      <td>0.000057</td>\n",
       "    </tr>\n",
       "    <tr>\n",
       "      <th>...</th>\n",
       "      <td>...</td>\n",
       "      <td>...</td>\n",
       "      <td>...</td>\n",
       "      <td>...</td>\n",
       "      <td>...</td>\n",
       "      <td>...</td>\n",
       "      <td>...</td>\n",
       "      <td>...</td>\n",
       "      <td>...</td>\n",
       "    </tr>\n",
       "    <tr>\n",
       "      <th>123</th>\n",
       "      <td>1.019434</td>\n",
       "      <td>-0.130473</td>\n",
       "      <td>0.081413</td>\n",
       "      <td>-0.000316</td>\n",
       "      <td>-0.006250</td>\n",
       "      <td>-0.013208</td>\n",
       "      <td>-0.018794</td>\n",
       "      <td>-0.010192</td>\n",
       "      <td>-0.001239</td>\n",
       "    </tr>\n",
       "    <tr>\n",
       "      <th>124</th>\n",
       "      <td>1.020479</td>\n",
       "      <td>-0.130590</td>\n",
       "      <td>0.082474</td>\n",
       "      <td>0.000695</td>\n",
       "      <td>-0.006176</td>\n",
       "      <td>-0.012023</td>\n",
       "      <td>-0.020755</td>\n",
       "      <td>-0.011117</td>\n",
       "      <td>-0.004299</td>\n",
       "    </tr>\n",
       "    <tr>\n",
       "      <th>125</th>\n",
       "      <td>1.021707</td>\n",
       "      <td>-0.130900</td>\n",
       "      <td>0.082404</td>\n",
       "      <td>0.001906</td>\n",
       "      <td>-0.006389</td>\n",
       "      <td>-0.012026</td>\n",
       "      <td>-0.021434</td>\n",
       "      <td>-0.010417</td>\n",
       "      <td>-0.004000</td>\n",
       "    </tr>\n",
       "    <tr>\n",
       "      <th>126</th>\n",
       "      <td>1.022935</td>\n",
       "      <td>-0.131210</td>\n",
       "      <td>0.082334</td>\n",
       "      <td>0.003117</td>\n",
       "      <td>-0.006601</td>\n",
       "      <td>-0.012030</td>\n",
       "      <td>-0.022114</td>\n",
       "      <td>-0.009717</td>\n",
       "      <td>-0.003702</td>\n",
       "    </tr>\n",
       "    <tr>\n",
       "      <th>127</th>\n",
       "      <td>1.022019</td>\n",
       "      <td>-0.130183</td>\n",
       "      <td>0.081487</td>\n",
       "      <td>0.002178</td>\n",
       "      <td>-0.005442</td>\n",
       "      <td>-0.012784</td>\n",
       "      <td>-0.020235</td>\n",
       "      <td>-0.008831</td>\n",
       "      <td>-0.002645</td>\n",
       "    </tr>\n",
       "  </tbody>\n",
       "</table>\n",
       "<p>128 rows × 9 columns</p>\n",
       "</div>"
      ],
      "text/plain": [
       "     total_acc_x  total_acc_y  total_acc_z  body_acc_x  body_acc_y  \\\n",
       "0       1.023127    -0.120016     0.091117    0.003531    0.004456   \n",
       "1       1.021882    -0.121499     0.092676    0.002285    0.003046   \n",
       "2       1.019178    -0.122841     0.096064   -0.000420    0.001776   \n",
       "3       1.015861    -0.123717     0.099897   -0.003738    0.000969   \n",
       "4       1.012893    -0.123817     0.097627   -0.006706    0.000937   \n",
       "..           ...          ...          ...         ...         ...   \n",
       "123     1.019434    -0.130473     0.081413   -0.000316   -0.006250   \n",
       "124     1.020479    -0.130590     0.082474    0.000695   -0.006176   \n",
       "125     1.021707    -0.130900     0.082404    0.001906   -0.006389   \n",
       "126     1.022935    -0.131210     0.082334    0.003117   -0.006601   \n",
       "127     1.022019    -0.130183     0.081487    0.002178   -0.005442   \n",
       "\n",
       "     body_acc_z  body_gyro_x  body_gyro_y  body_gyro_z  \n",
       "0     -0.005915     0.026189    -0.000238     0.002159  \n",
       "1     -0.004139     0.021651    -0.000428    -0.000272  \n",
       "2     -0.000543     0.014551     0.000761     0.002631  \n",
       "3      0.003490     0.014815    -0.003026     0.003376  \n",
       "4      0.001409     0.016694    -0.005988     0.000057  \n",
       "..          ...          ...          ...          ...  \n",
       "123   -0.013208    -0.018794    -0.010192    -0.001239  \n",
       "124   -0.012023    -0.020755    -0.011117    -0.004299  \n",
       "125   -0.012026    -0.021434    -0.010417    -0.004000  \n",
       "126   -0.012030    -0.022114    -0.009717    -0.003702  \n",
       "127   -0.012784    -0.020235    -0.008831    -0.002645  \n",
       "\n",
       "[128 rows x 9 columns]"
      ]
     },
     "execution_count": 3,
     "metadata": {},
     "output_type": "execute_result"
    }
   ],
   "source": [
    "dataset.window_index\n",
    "dataset.windows[1]"
   ]
  },
  {
   "cell_type": "code",
   "execution_count": 17,
   "id": "896146f7",
   "metadata": {},
   "outputs": [
    {
     "name": "stdout",
     "output_type": "stream",
     "text": [
      "torch.Size([32, 128, 9])\n"
     ]
    },
    {
     "data": {
      "image/png": "[encoded data removed]",
      "text/plain": [
       "<Figure size 640x480 with 1 Axes>"
      ]
     },
     "metadata": {},
     "output_type": "display_data"
    }
   ],
   "source": [
    "from matplotlib import pyplot as plt\n",
    "\n",
    "y, x1, x2 = next(iter(train_loader))\n",
    "print(x1.shape)\n",
    "\n",
    "plt.plot(x1[0, :, 0])\n",
    "plt.show()"
   ]
  }
 ],
 "metadata": {
  "kernelspec": {
   "display_name": ".venv",
   "language": "python",
   "name": "python3"
  },
  "language_info": {
   "codemirror_mode": {
    "name": "ipython",
    "version": 3
   },
   "file_extension": ".py",
   "mimetype": "text/x-python",
   "name": "python",
   "nbconvert_exporter": "python",
   "pygments_lexer": "ipython3",
   "version": "3.13.2"
  }
 },
 "nbformat": 4,
 "nbformat_minor": 5
}
