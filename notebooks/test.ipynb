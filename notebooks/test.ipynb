{
 "cells": [
  {
   "cell_type": "code",
   "execution_count": 1,
   "id": "dbd8e481",
   "metadata": {},
   "outputs": [],
   "source": [
    "from whar_datasets.adapters.pytorch import PytorchAdapter\n",
    "from whar_datasets.support.getter import WHARDatasetID, get_cfg_and_parser"
   ]
  },
  {
   "cell_type": "code",
   "execution_count": 3,
   "id": "7a752dd7",
   "metadata": {},
   "outputs": [
    {
     "name": "stdout",
     "output_type": "stream",
     "text": [
      "Creating config hash...\n",
      "Checking windowing...\n",
      "Loading config hash...\n",
      "Windowing is up-to-date.\n"
     ]
    },
    {
     "name": "stderr",
     "output_type": "stream",
     "text": [
      "Loading windows: 100%|██████████| 23499/23499 [00:13<00:00, 1733.83it/s]\n"
     ]
    }
   ],
   "source": [
    "cfg, parse = get_cfg_and_parser(WHARDatasetID.KU_HAR)\n",
    "dataset = PytorchAdapter(cfg, parse, override_cache=False)"
   ]
  },
  {
   "cell_type": "code",
   "execution_count": 7,
   "id": "6d09ffbb",
   "metadata": {},
   "outputs": [
    {
     "name": "stdout",
     "output_type": "stream",
     "text": [
      "subject_id\n",
      "3     111\n",
      "0      65\n",
      "21     59\n",
      "22     57\n",
      "16     55\n",
      "     ... \n",
      "83      2\n",
      "84      2\n",
      "85      2\n",
      "86      2\n",
      "87      2\n",
      "Name: count, Length: 89, dtype: int64\n",
      "activity_id\n",
      "8     339\n",
      "17    188\n",
      "3     148\n",
      "15    146\n",
      "2     130\n",
      "5     121\n",
      "12    111\n",
      "6     105\n",
      "1      91\n",
      "11     91\n",
      "16     88\n",
      "13     87\n",
      "10     85\n",
      "7      57\n",
      "0      53\n",
      "14     50\n",
      "4      35\n",
      "9      20\n",
      "Name: count, dtype: int64\n",
      "train: 18929 | val: 3333 | test: 1237\n"
     ]
    }
   ],
   "source": [
    "train_loader, val_loader, test_loader = dataset.get_dataloaders()"
   ]
  },
  {
   "cell_type": "code",
   "execution_count": 4,
   "id": "21588eb5",
   "metadata": {},
   "outputs": [
    {
     "data": {
      "text/plain": [
       "16"
      ]
     },
     "execution_count": 4,
     "metadata": {},
     "output_type": "execute_result"
    }
   ],
   "source": [
    "weights = dataset.get_class_weights(test_loader)\n",
    "len(weights)"
   ]
  },
  {
   "cell_type": "code",
   "execution_count": 5,
   "id": "38841bf5",
   "metadata": {},
   "outputs": [
    {
     "data": {
      "text/html": [
       "<div>\n",
       "<style scoped>\n",
       "    .dataframe tbody tr th:only-of-type {\n",
       "        vertical-align: middle;\n",
       "    }\n",
       "\n",
       "    .dataframe tbody tr th {\n",
       "        vertical-align: top;\n",
       "    }\n",
       "\n",
       "    .dataframe thead th {\n",
       "        text-align: right;\n",
       "    }\n",
       "</style>\n",
       "<table border=\"1\" class=\"dataframe\">\n",
       "  <thead>\n",
       "    <tr style=\"text-align: right;\">\n",
       "      <th></th>\n",
       "      <th>acc_x</th>\n",
       "      <th>acc_y</th>\n",
       "      <th>acc_z</th>\n",
       "      <th>gyro_x</th>\n",
       "      <th>gyro_y</th>\n",
       "      <th>gyro_z</th>\n",
       "    </tr>\n",
       "  </thead>\n",
       "  <tbody>\n",
       "    <tr>\n",
       "      <th>0</th>\n",
       "      <td>-6.46350</td>\n",
       "      <td>4.60790</td>\n",
       "      <td>-3.031700</td>\n",
       "      <td>-3.000600</td>\n",
       "      <td>1.23860</td>\n",
       "      <td>1.27220</td>\n",
       "    </tr>\n",
       "    <tr>\n",
       "      <th>1</th>\n",
       "      <td>-7.70770</td>\n",
       "      <td>2.77400</td>\n",
       "      <td>-1.877100</td>\n",
       "      <td>-2.644000</td>\n",
       "      <td>1.47180</td>\n",
       "      <td>1.41960</td>\n",
       "    </tr>\n",
       "    <tr>\n",
       "      <th>2</th>\n",
       "      <td>-8.44620</td>\n",
       "      <td>1.31210</td>\n",
       "      <td>-0.928120</td>\n",
       "      <td>-2.289100</td>\n",
       "      <td>1.52130</td>\n",
       "      <td>1.35240</td>\n",
       "    </tr>\n",
       "    <tr>\n",
       "      <th>3</th>\n",
       "      <td>-8.47970</td>\n",
       "      <td>0.25333</td>\n",
       "      <td>-0.534420</td>\n",
       "      <td>-1.837000</td>\n",
       "      <td>1.41740</td>\n",
       "      <td>1.12150</td>\n",
       "    </tr>\n",
       "    <tr>\n",
       "      <th>4</th>\n",
       "      <td>-7.93000</td>\n",
       "      <td>-0.64503</td>\n",
       "      <td>-0.465850</td>\n",
       "      <td>-1.339800</td>\n",
       "      <td>1.15780</td>\n",
       "      <td>0.76906</td>\n",
       "    </tr>\n",
       "    <tr>\n",
       "      <th>...</th>\n",
       "      <td>...</td>\n",
       "      <td>...</td>\n",
       "      <td>...</td>\n",
       "      <td>...</td>\n",
       "      <td>...</td>\n",
       "      <td>...</td>\n",
       "    </tr>\n",
       "    <tr>\n",
       "      <th>251</th>\n",
       "      <td>0.11040</td>\n",
       "      <td>0.89861</td>\n",
       "      <td>-1.202700</td>\n",
       "      <td>0.172090</td>\n",
       "      <td>-0.59905</td>\n",
       "      <td>0.54487</td>\n",
       "    </tr>\n",
       "    <tr>\n",
       "      <th>252</th>\n",
       "      <td>0.30069</td>\n",
       "      <td>1.74750</td>\n",
       "      <td>-0.613470</td>\n",
       "      <td>0.142770</td>\n",
       "      <td>-0.69067</td>\n",
       "      <td>0.46790</td>\n",
       "    </tr>\n",
       "    <tr>\n",
       "      <th>253</th>\n",
       "      <td>0.23918</td>\n",
       "      <td>2.07760</td>\n",
       "      <td>0.020141</td>\n",
       "      <td>0.106720</td>\n",
       "      <td>-0.62776</td>\n",
       "      <td>0.39032</td>\n",
       "    </tr>\n",
       "    <tr>\n",
       "      <th>254</th>\n",
       "      <td>-0.22012</td>\n",
       "      <td>1.91640</td>\n",
       "      <td>0.413210</td>\n",
       "      <td>0.033420</td>\n",
       "      <td>-0.53063</td>\n",
       "      <td>0.32557</td>\n",
       "    </tr>\n",
       "    <tr>\n",
       "      <th>255</th>\n",
       "      <td>-0.92844</td>\n",
       "      <td>1.37750</td>\n",
       "      <td>0.760620</td>\n",
       "      <td>-0.046603</td>\n",
       "      <td>-0.41395</td>\n",
       "      <td>0.29503</td>\n",
       "    </tr>\n",
       "  </tbody>\n",
       "</table>\n",
       "<p>256 rows × 6 columns</p>\n",
       "</div>"
      ],
      "text/plain": [
       "       acc_x    acc_y     acc_z    gyro_x   gyro_y   gyro_z\n",
       "0   -6.46350  4.60790 -3.031700 -3.000600  1.23860  1.27220\n",
       "1   -7.70770  2.77400 -1.877100 -2.644000  1.47180  1.41960\n",
       "2   -8.44620  1.31210 -0.928120 -2.289100  1.52130  1.35240\n",
       "3   -8.47970  0.25333 -0.534420 -1.837000  1.41740  1.12150\n",
       "4   -7.93000 -0.64503 -0.465850 -1.339800  1.15780  0.76906\n",
       "..       ...      ...       ...       ...      ...      ...\n",
       "251  0.11040  0.89861 -1.202700  0.172090 -0.59905  0.54487\n",
       "252  0.30069  1.74750 -0.613470  0.142770 -0.69067  0.46790\n",
       "253  0.23918  2.07760  0.020141  0.106720 -0.62776  0.39032\n",
       "254 -0.22012  1.91640  0.413210  0.033420 -0.53063  0.32557\n",
       "255 -0.92844  1.37750  0.760620 -0.046603 -0.41395  0.29503\n",
       "\n",
       "[256 rows x 6 columns]"
      ]
     },
     "execution_count": 5,
     "metadata": {},
     "output_type": "execute_result"
    }
   ],
   "source": [
    "dataset.window_index\n",
    "assert dataset.windows is not None\n",
    "dataset.windows[6]"
   ]
  },
  {
   "cell_type": "code",
   "execution_count": 30,
   "id": "30ad8f24",
   "metadata": {},
   "outputs": [
    {
     "data": {
      "image/png": "[encoded data removed]",
      "text/plain": [
       "<Figure size 640x480 with 1 Axes>"
      ]
     },
     "metadata": {},
     "output_type": "display_data"
    }
   ],
   "source": [
    "from matplotlib import pyplot as plt\n",
    "\n",
    "y, x = next(iter(train_loader))\n",
    "# print(x1.shape)\n",
    "\n",
    "plt.plot(x[0, :, 0])\n",
    "plt.show()"
   ]
  }
 ],
 "metadata": {
  "kernelspec": {
   "display_name": ".venv",
   "language": "python",
   "name": "python3"
  },
  "language_info": {
   "codemirror_mode": {
    "name": "ipython",
    "version": 3
   },
   "file_extension": ".py",
   "mimetype": "text/x-python",
   "name": "python",
   "nbconvert_exporter": "python",
   "pygments_lexer": "ipython3",
   "version": "3.13.2"
  }
 },
 "nbformat": 4,
 "nbformat_minor": 5
}
