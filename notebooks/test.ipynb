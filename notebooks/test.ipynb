{
 "cells": [
  {
   "cell_type": "code",
   "execution_count": 1,
   "id": "8498fad9",
   "metadata": {},
   "outputs": [],
   "source": [
    "from har_datasets.parsing.downloading import download"
   ]
  },
  {
   "cell_type": "code",
   "execution_count": 2,
   "id": "badb8fd4",
   "metadata": {},
   "outputs": [
    {
     "name": "stdout",
     "output_type": "stream",
     "text": [
      "File human+activity+recognition+using+smartphones.zip already exists in ./\n",
      "Directory ./human+activity+recognition+using+smartphones already exists and is not empty\n"
     ]
    }
   ],
   "source": [
    "download(\n",
    "    url=\"https://archive.ics.uci.edu/static/public/240/human+activity+recognition+using+smartphones.zip\",\n",
    "    save_dir=\"./\",\n",
    ")"
   ]
  }
 ],
 "metadata": {
  "kernelspec": {
   "display_name": ".venv",
   "language": "python",
   "name": "python3"
  },
  "language_info": {
   "codemirror_mode": {
    "name": "ipython",
    "version": 3
   },
   "file_extension": ".py",
   "mimetype": "text/x-python",
   "name": "python",
   "nbconvert_exporter": "python",
   "pygments_lexer": "ipython3",
   "version": "3.13.2"
  }
 },
 "nbformat": 4,
 "nbformat_minor": 5
}
