{
 "cells": [
  {
   "cell_type": "code",
   "execution_count": 1,
   "id": "8498fad9",
   "metadata": {},
   "outputs": [],
   "source": [
    "from har_datasets.parsing.downloading import download"
   ]
  },
  {
   "cell_type": "code",
   "execution_count": null,
   "id": "badb8fd4",
   "metadata": {},
   "outputs": [
    {
     "name": "stdout",
     "output_type": "stream",
     "text": [
      "File human+activity+recognition+using+smartphones.zip already exists in ./\n",
      "Directory ./human+activity+recognition+using+smartphones already exists and is not empty\n"
     ]
    }
   ],
   "source": [
    "# download(\n",
    "#     url=\"https://archive.ics.uci.edu/static/public/240/human+activity+recognition+using+smartphones.zip\",\n",
    "#     save_dir=\"./\",\n",
    "# )"
   ]
  },
  {
   "cell_type": "code",
   "execution_count": 1,
   "id": "dbd8e481",
   "metadata": {},
   "outputs": [
    {
     "ename": "UnboundLocalError",
     "evalue": "cannot access local variable 'dataset' where it is not associated with a value",
     "output_type": "error",
     "traceback": [
      "\u001b[31m---------------------------------------------------------------------------\u001b[39m",
      "\u001b[31mUnboundLocalError\u001b[39m                         Traceback (most recent call last)",
      "\u001b[36mCell\u001b[39m\u001b[36m \u001b[39m\u001b[32mIn[1]\u001b[39m\u001b[32m, line 1\u001b[39m\n\u001b[32m----> \u001b[39m\u001b[32m1\u001b[39m \u001b[38;5;28;01mfrom\u001b[39;00m\u001b[38;5;250m \u001b[39m\u001b[34;01mhar_datasets\u001b[39;00m\u001b[34;01m.\u001b[39;00m\u001b[34;01mdataset\u001b[39;00m\u001b[34;01m.\u001b[39;00m\u001b[34;01mget_har_dataset\u001b[39;00m\u001b[38;5;250m \u001b[39m\u001b[38;5;28;01mimport\u001b[39;00m get_har_dataset, HAR_DATASET_ID\n\u001b[32m      4\u001b[39m dataset = get_har_dataset(dataset_id=HAR_DATASET_ID.UCI_HAR)\n\u001b[32m      6\u001b[39m train_loader, test_loader, val_loader = dataset.get_dataloaders(\n\u001b[32m      7\u001b[39m     batch_sizes=(\u001b[32m32\u001b[39m, \u001b[32m1\u001b[39m, \u001b[32m1\u001b[39m), shuffles=(\u001b[38;5;28;01mTrue\u001b[39;00m, \u001b[38;5;28;01mFalse\u001b[39;00m, \u001b[38;5;28;01mFalse\u001b[39;00m)\n\u001b[32m      8\u001b[39m )\n",
      "\u001b[36mFile \u001b[39m\u001b[32m~/har-datasets/src/har_datasets/dataset/get_har_dataset.py:29\u001b[39m\n\u001b[32m     21\u001b[39m     parse: Callable[[\u001b[38;5;28mstr\u001b[39m], pd.DataFrame]\n\u001b[32m     22\u001b[39m     cfg: Config\n\u001b[32m     25\u001b[39m HAR_DATASETS_DICT = {\n\u001b[32m     26\u001b[39m     HAR_DATASET_ID.UCI_HAR: HARDatasetInfo(\n\u001b[32m     27\u001b[39m         \u001b[38;5;28mid\u001b[39m=HAR_DATASET_ID.UCI_HAR,\n\u001b[32m     28\u001b[39m         parse=parse_uci_har,\n\u001b[32m---> \u001b[39m\u001b[32m29\u001b[39m         cfg=\u001b[43mget_config_uci_har\u001b[49m\u001b[43m(\u001b[49m\u001b[43m)\u001b[49m,\n\u001b[32m     30\u001b[39m     ),\n\u001b[32m     31\u001b[39m }\n\u001b[32m     34\u001b[39m \u001b[38;5;28;01mdef\u001b[39;00m\u001b[38;5;250m \u001b[39m\u001b[34mget_har_dataset\u001b[39m(\n\u001b[32m     35\u001b[39m     dataset_id: HAR_DATASET_ID, cfg: Config | \u001b[38;5;28;01mNone\u001b[39;00m = \u001b[38;5;28;01mNone\u001b[39;00m\n\u001b[32m     36\u001b[39m ) -> HARDataset:\n\u001b[32m     37\u001b[39m     info = HAR_DATASETS_DICT[dataset_id]\n",
      "\u001b[36mFile \u001b[39m\u001b[32m~/har-datasets/src/har_datasets/config/configs.py:16\u001b[39m, in \u001b[36mget_config_uci_har\u001b[39m\u001b[34m()\u001b[39m\n\u001b[32m     14\u001b[39m \u001b[38;5;28;01mdef\u001b[39;00m\u001b[38;5;250m \u001b[39m\u001b[34mget_config_uci_har\u001b[39m() -> Config:\n\u001b[32m     15\u001b[39m     dataset: Dataset\n\u001b[32m---> \u001b[39m\u001b[32m16\u001b[39m     \u001b[38;5;28;01mreturn\u001b[39;00m Config(common=COMMON, dataset=\u001b[43mdataset\u001b[49m)\n",
      "\u001b[31mUnboundLocalError\u001b[39m: cannot access local variable 'dataset' where it is not associated with a value"
     ]
    }
   ],
   "source": [
    "from har_datasets.dataset.get_har_dataset import get_har_dataset, HAR_DATASET_ID\n",
    "\n",
    "\n",
    "dataset = get_har_dataset(dataset_id=HAR_DATASET_ID.UCI_HAR)\n",
    "\n",
    "train_loader, test_loader, val_loader = dataset.get_dataloaders(\n",
    "    batch_sizes=(32, 1, 1), shuffles=(True, False, False)\n",
    ")"
   ]
  }
 ],
 "metadata": {
  "kernelspec": {
   "display_name": ".venv",
   "language": "python",
   "name": "python3"
  },
  "language_info": {
   "codemirror_mode": {
    "name": "ipython",
    "version": 3
   },
   "file_extension": ".py",
   "mimetype": "text/x-python",
   "name": "python",
   "nbconvert_exporter": "python",
   "pygments_lexer": "ipython3",
   "version": "3.13.2"
  }
 },
 "nbformat": 4,
 "nbformat_minor": 5
}
