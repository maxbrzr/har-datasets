{
 "cells": [
  {
   "cell_type": "code",
   "execution_count": null,
   "id": "c1cb7100",
   "metadata": {},
   "outputs": [
    {
     "name": "stderr",
     "output_type": "stream",
     "text": [
      "/Users/maxburzer/har-datasets/.venv/lib/python3.13/site-packages/pydantic/_internal/_generate_schema.py:502: UserWarning: [<class 'pydantic.networks.AnyHttpUrl'>] is not a Python type (it may be an instance of an object), Pydantic will allow any object with no validation since we cannot even enforce that the input is an instance of the given type. To get rid of this error wrap the type with `pydantic.SkipValidation`.\n",
      "  warn(\n"
     ]
    }
   ],
   "source": [
    "from sempyro import LiteralField\n",
    "from sempyro.dcat import DCATDataset\n",
    "from rdflib import URIRef"
   ]
  },
  {
   "cell_type": "code",
   "execution_count": null,
   "id": "a673235f",
   "metadata": {},
   "outputs": [
    {
     "name": "stdout",
     "output_type": "stream",
     "text": [
      "@prefix dcat: <http://www.w3.org/ns/dcat#> .\n",
      "@prefix dcterms: <http://purl.org/dc/terms/> .\n",
      "\n",
      "<http://example.com/dataset/population> a dcat:Dataset ;\n",
      "    dcterms:description \"This is description of Test dataset\" ;\n",
      "    dcterms:title \"Population statistics\" .\n",
      "\n",
      "\n"
     ]
    }
   ],
   "source": [
    "dataset_title = LiteralField(value=\"Population statistics\")\n",
    "description = LiteralField(value=\"This is description of Test dataset\")\n",
    "\n",
    "dataset = DCATDataset(\n",
    "    title=[dataset_title],\n",
    "    description=[description],\n",
    ")\n",
    "\n",
    "dataset_graph = dataset.to_graph(URIRef(\"http://example.com/dataset/population\"))\n",
    "print(dataset_graph.serialize())"
   ]
  }
 ],
 "metadata": {
  "kernelspec": {
   "display_name": ".venv",
   "language": "python",
   "name": "python3"
  },
  "language_info": {
   "codemirror_mode": {
    "name": "ipython",
    "version": 3
   },
   "file_extension": ".py",
   "mimetype": "text/x-python",
   "name": "python",
   "nbconvert_exporter": "python",
   "pygments_lexer": "ipython3",
   "version": "3.13.2"
  }
 },
 "nbformat": 4,
 "nbformat_minor": 5
}
