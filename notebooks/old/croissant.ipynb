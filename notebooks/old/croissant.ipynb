{
 "cells": [
  {
   "cell_type": "code",
   "execution_count": 1,
   "id": "5ad8db38",
   "metadata": {},
   "outputs": [],
   "source": [
    "import mlcroissant as mlc"
   ]
  },
  {
   "cell_type": "code",
   "execution_count": 4,
   "id": "aefe3c35",
   "metadata": {},
   "outputs": [
    {
     "name": "stderr",
     "output_type": "stream",
     "text": [
      "WARNING:absl:Found the following 1 warning(s) during the validation:\n",
      "  -  [Metadata(UCI-HAR)] Property \"https://schema.org/datePublished\" is recommended, but does not exist.\n"
     ]
    },
    {
     "name": "stdout",
     "output_type": "stream",
     "text": [
      "UCI-HAR: Human Activity Recognition database built from the recordings of 30 subjects performing activities of daily living (ADL) while carrying a waist-mounted smartphone with embedded inertial sensors.\n"
     ]
    }
   ],
   "source": [
    "ds = mlc.Dataset(jsonld=\"croissant-uci-har.json\")\n",
    "metadata = ds.metadata.to_json()\n",
    "print(f\"{metadata['name']}: {metadata['description']}\")"
   ]
  },
  {
   "cell_type": "code",
   "execution_count": 10,
   "id": "5234088d",
   "metadata": {},
   "outputs": [
    {
     "name": "stdout",
     "output_type": "stream",
     "text": [
      "/Users/maxburzer/har-datasets/notebooks/uci_har.csv\n",
      "/Users/maxburzer/har-datasets/notebooks/uci_har.csv\n"
     ]
    }
   ],
   "source": [
    "print(metadata[\"distribution\"][0][\"contentUrl\"])\n",
    "print(ds.metadata.distribution[0].content_url)"
   ]
  },
  {
   "cell_type": "code",
   "execution_count": null,
   "id": "41bd8143",
   "metadata": {},
   "outputs": [],
   "source": [
    "for x in ds.records(record_set=\"default\"):\n",
    "    print(x)"
   ]
  }
 ],
 "metadata": {
  "kernelspec": {
   "display_name": ".venv",
   "language": "python",
   "name": "python3"
  },
  "language_info": {
   "codemirror_mode": {
    "name": "ipython",
    "version": 3
   },
   "file_extension": ".py",
   "mimetype": "text/x-python",
   "name": "python",
   "nbconvert_exporter": "python",
   "pygments_lexer": "ipython3",
   "version": "3.13.2"
  }
 },
 "nbformat": 4,
 "nbformat_minor": 5
}
